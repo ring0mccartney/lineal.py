{
  "nbformat": 4,
  "nbformat_minor": 0,
  "metadata": {
    "colab": {
      "provenance": [],
      "authorship_tag": "ABX9TyPlkpNNgYTY34yawJcYARxO",
      "include_colab_link": true
    },
    "kernelspec": {
      "name": "python3",
      "display_name": "Python 3"
    },
    "language_info": {
      "name": "python"
    }
  },
  "cells": [
    {
      "cell_type": "markdown",
      "metadata": {
        "id": "view-in-github",
        "colab_type": "text"
      },
      "source": [
        "<a href=\"https://colab.research.google.com/github/ring0mccartney/lineal.py/blob/main/lineal_py.ipynb\" target=\"_parent\"><img src=\"https://colab.research.google.com/assets/colab-badge.svg\" alt=\"Open In Colab\"/></a>"
      ]
    },
    {
      "cell_type": "code",
      "execution_count": 4,
      "metadata": {
        "colab": {
          "base_uri": "https://localhost:8080/"
        },
        "id": "9XaTGXFYAQRP",
        "outputId": "b7d4bd6e-1444-4acd-b710-541e48543bd1"
      },
      "outputs": [
        {
          "output_type": "stream",
          "name": "stdout",
          "text": [
            " 8 está en la lista\n",
            " 3 no está en la lista.\n"
          ]
        }
      ],
      "source": [
        "def buscar(lista, objetivo):\n",
        "  return objetivo in lista\n",
        "\n",
        "lista = [5, 2, 8, 1, 9, 4]\n",
        "numero = 8\n",
        "\n",
        "if buscar(lista, numero):\n",
        "  print(f\" {numero} está en la lista\")\n",
        "else:\n",
        "  print(f\" {numero} no está en la lista.\")\n",
        "\n",
        "no_num = 3\n",
        "if buscar(lista, no_num):\n",
        "  print(f\"{no_num} está en la lista\")\n",
        "else:\n",
        "  print(f\" {no_num} no está en la lista.\")"
      ]
    }
  ]
}